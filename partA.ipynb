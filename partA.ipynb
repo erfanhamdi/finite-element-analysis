{
 "cells": [
  {
   "cell_type": "code",
   "execution_count": 8,
   "metadata": {},
   "outputs": [],
   "source": [
    "from finiteelementanalysis import pre_process as pre\n",
    "from finiteelementanalysis import pre_process_demo_helper_fcns as pre_demo\n",
    "from finiteelementanalysis.solver import hyperelastic_solver\n",
    "from finiteelementanalysis import visualize as viz\n",
    "import matplotlib.pyplot as plt\n",
    "import numpy as np\n",
    "from pathlib import Path"
   ]
  },
  {
   "cell_type": "code",
   "execution_count": 9,
   "metadata": {},
   "outputs": [],
   "source": [
    "# --- Beam geometry ---\n",
    "L = 20.0   # length in x\n",
    "H = 1.0    # height in y\n",
    "nx = 40    # number of elements along length\n",
    "ny = 2    # number of elements along height\n",
    "\n",
    "ele_type = \"D2_nn4_quad\"  # 2D, 4-node quadrilateral (linear)\n",
    "ndof = 2                  # 2 DOFs per node (x, y)\n",
    "\n",
    "# Generate a rectangular mesh\n",
    "coords, connect = pre.generate_rect_mesh_2d(ele_type, 0.0, 0.0, L, H, nx, ny)\n",
    "# coords: shape (n_nodes, 2)\n",
    "# connect: shape (n_nodes_per_elem, n_elems)\n",
    "\n",
    "mesh_img_fname = \"full_code_example_2_mesh.png\"\n",
    "pre_demo.plot_mesh_2D(str(mesh_img_fname), ele_type, coords, connect)\n"
   ]
  },
  {
   "cell_type": "code",
   "execution_count": 10,
   "metadata": {},
   "outputs": [],
   "source": [
    "# Apply boundary conditions:\n",
    "# --- Identify boundaries ---\n",
    "boundary_nodes, boundary_edges = pre.identify_rect_boundaries(\n",
    "    coords, connect, ele_type, x_lower=0.0, x_upper=L, y_lower=0.0, y_upper=H\n",
    ")\n",
    "\n",
    "# 1) Clamp the left edge: fix x- and y-displacements = 0\n",
    "fixed_left = pre.assign_fixed_nodes_rect(boundary_nodes, \"left\", None, 0.0)\n",
    "fixed_right = pre.assign_fixed_nodes_rect(boundary_nodes, \"right\", None, 0.0)\n",
    "# 2) Uniform downward traction on the top edge (y=H)\n",
    "# Let q be negative in the y-direction\n",
    "q = -0.01 # load per unit length in x\n",
    "# For a 2D plane strain problem, this is a traction (tx, ty) = (0, q)\n",
    "dload_info = pre.assign_uniform_load_rect(boundary_edges, \"top\", 0.0, q)\n",
    "# dload_info[-2, :-1] = 0.0\n",
    "# Combine boundary conditions\n",
    "fixed_nodes = fixed_left\n",
    "fixed_nodes = np.hstack((fixed_left, fixed_right))  # only the left edge is clamped\n"
   ]
  },
  {
   "cell_type": "code",
   "execution_count": 11,
   "metadata": {},
   "outputs": [
    {
     "name": "stdout",
     "output_type": "stream",
     "text": [
      "Material properties: mu=76923.077, kappa=166666.667\n"
     ]
    }
   ],
   "source": [
    "# --- Material properties ---\n",
    "E = 200_000\n",
    "nu = 0.3\n",
    "# mu = E / (2.0 * (1.0 + nu))\n",
    "# kappa = E / (3.0 * (1.0 - 2.0 * nu))\n",
    "mu = E / (2.0 * (1.0 + nu))\n",
    "#kappa = E / (2.0 * (1.0 - nu))\n",
    "kappa = E / (3.0 * (1.0 - 2.0 * nu))\n",
    "\n",
    "material_props = np.array([mu, kappa])\n",
    "print(f\"Material properties: mu={mu:.3f}, kappa={kappa:.3f}\")\n"
   ]
  },
  {
   "cell_type": "code",
   "execution_count": 12,
   "metadata": {},
   "outputs": [
    {
     "name": "stdout",
     "output_type": "stream",
     "text": [
      "Step 0, load factor = 1.000\n",
      "Iteration 1, Correction=1.000000e+00, Residual=1.269309e-04, tolerance=1.000000e-10\n",
      "Iteration 2, Correction=9.429358e-05, Residual=5.429588e-05, tolerance=1.000000e-10\n",
      "Iteration 3, Correction=7.553435e-04, Residual=8.204719e-13, tolerance=1.000000e-10\n",
      "Iteration 4, Correction=4.133983e-06, Residual=4.997827e-13, tolerance=1.000000e-10\n",
      "Iteration 5, Correction=3.786648e-04, Residual=4.802365e-13, tolerance=1.000000e-10\n",
      "Iteration 6, Correction=9.596879e-04, Residual=4.688559e-13, tolerance=1.000000e-10\n",
      "Iteration 7, Correction=1.484391e-04, Residual=4.921998e-13, tolerance=1.000000e-10\n",
      "Iteration 8, Correction=9.776326e-04, Residual=5.060132e-13, tolerance=1.000000e-10\n",
      "Iteration 9, Correction=2.436758e-03, Residual=4.218091e-13, tolerance=1.000000e-10\n",
      "Iteration 10, Correction=1.128345e-04, Residual=4.566476e-13, tolerance=1.000000e-10\n",
      "Iteration 11, Correction=3.978201e-04, Residual=4.712360e-13, tolerance=1.000000e-10\n",
      "Iteration 12, Correction=3.954814e-04, Residual=4.840653e-13, tolerance=1.000000e-10\n",
      "Iteration 13, Correction=3.556725e-04, Residual=4.397788e-13, tolerance=1.000000e-10\n",
      "Iteration 14, Correction=8.063046e-05, Residual=4.552804e-13, tolerance=1.000000e-10\n",
      "Iteration 15, Correction=4.459492e-04, Residual=4.708993e-13, tolerance=1.000000e-10\n",
      "Iteration 16, Correction=8.665076e-04, Residual=5.311228e-13, tolerance=1.000000e-10\n",
      "Iteration 17, Correction=6.382725e-04, Residual=4.534828e-13, tolerance=1.000000e-10\n",
      "Iteration 18, Correction=1.097303e-03, Residual=4.549717e-13, tolerance=1.000000e-10\n",
      "Iteration 19, Correction=1.153395e-03, Residual=4.926749e-13, tolerance=1.000000e-10\n",
      "Iteration 20, Correction=2.801634e-04, Residual=4.656365e-13, tolerance=1.000000e-10\n",
      "Iteration 21, Correction=3.298703e-04, Residual=4.499539e-13, tolerance=1.000000e-10\n",
      "Iteration 22, Correction=5.119661e-05, Residual=3.939429e-13, tolerance=1.000000e-10\n",
      "Iteration 23, Correction=3.703344e-04, Residual=4.215686e-13, tolerance=1.000000e-10\n",
      "Iteration 24, Correction=2.123351e-03, Residual=4.486016e-13, tolerance=1.000000e-10\n",
      "Iteration 25, Correction=3.958347e-04, Residual=4.603661e-13, tolerance=1.000000e-10\n",
      "Iteration 26, Correction=2.034138e-03, Residual=4.758839e-13, tolerance=1.000000e-10\n",
      "Iteration 27, Correction=1.057343e-03, Residual=4.745435e-13, tolerance=1.000000e-10\n",
      "Iteration 28, Correction=1.666138e-03, Residual=4.697318e-13, tolerance=1.000000e-10\n",
      "Iteration 29, Correction=6.669664e-04, Residual=4.621881e-13, tolerance=1.000000e-10\n",
      "Iteration 30, Correction=3.069283e-05, Residual=4.829983e-13, tolerance=1.000000e-10\n"
     ]
    }
   ],
   "source": [
    "nr_num_steps = 1\n",
    "\n",
    "# --- Solve with your hyperelastic solver ---\n",
    "displacements_all, nr_info_all = hyperelastic_solver(\n",
    "    material_props,\n",
    "    ele_type,\n",
    "    coords.T,      # shape (2, n_nodes)\n",
    "    connect.T,     # shape (n_nodes_per_elem, n_elems)\n",
    "    fixed_nodes,\n",
    "    dload_info,\n",
    "    nr_print=True,\n",
    "    nr_num_steps=nr_num_steps,\n",
    "    nr_tol=1e-10,\n",
    "    nr_maxit=30,\n",
    ")\n"
   ]
  },
  {
   "cell_type": "code",
   "execution_count": 13,
   "metadata": {},
   "outputs": [
    {
     "name": "stdout",
     "output_type": "stream",
     "text": [
      "max deflection coordinates=[10.   0.5]\n",
      "Computed max deflection (y): -0.001000\n",
      "Analytical Euler-Bernoulli deflection: -0.001138\n",
      "Absolute error = 1.375468e-04\n",
      "Relative error = -1.209203e-01\n"
     ]
    }
   ],
   "source": [
    "%matplotlib inline\n",
    "final_disp = displacements_all[-1]  # shape: (n_nodes*ndof,)\n",
    "\n",
    "# --- Compute the tip displacement from the FEA result ---\n",
    "# We'll pick a node near x=L, y=H/2\n",
    "tip_node = None\n",
    "tol = 1e-3\n",
    "for i, (x, y) in enumerate(coords):\n",
    "    if abs(x - L/2) < tol and abs(y - H/2) < H/(2*ny):\n",
    "        tip_node = i\n",
    "        break\n",
    "if tip_node is None:\n",
    "    raise ValueError(\"Could not find tip node near x=L, y=H/2.\")\n",
    "\n",
    "tip_disp_y = final_disp[ndof*tip_node + 1]  # the y-component of displacement\n",
    "\n",
    "# --- Compare with Euler–Bernoulli formula for small deflection ---\n",
    "mu = material_props[0]\n",
    "# We'll guess E = 3 mu (plane stress, near incompressible) or 2 mu(1 + nu) for plane strain, etc.\n",
    "# --- Analytical Solution ---\n",
    "# For a cantilever beam under uniformly distributed load q:\n",
    "# Euler–Bernoulli tip deflection: w(L) = q * L^4 / (8 * E * I)\n",
    "# E_eff = E * (1 - nu) / ((1 + nu) * (1 - 2*nu))\n",
    "E_eff = E / (1 - nu ** 2.0)\n",
    "I = H ** 3 / 12.0\n",
    "w_analytical = 5 * q * L ** 4 / (384.0 * E_eff * I)\n",
    "# w_analytical = q * L ** 4 / (8.0 * E_eff * I)\n",
    "\n",
    "print(f\"max deflection coordinates={coords[tip_node]}\")\n",
    "print(f\"Computed max deflection (y): {tip_disp_y:.6f}\")\n",
    "print(f\"Analytical Euler-Bernoulli deflection: {w_analytical:.6f}\")\n",
    "\n",
    "# --- Evaluate error ---\n",
    "error = abs(tip_disp_y - w_analytical)\n",
    "print(f\"Absolute error = {error:.6e}\")\n",
    "print(f\"Relative error = {error/w_analytical:.6e}\")\n",
    "\n",
    "# --- Plot the mesh with the final deformed shape ---\n",
    "\n",
    "img_name = \"full_code_example_2.gif\"\n",
    "fname = str(img_name)\n",
    "viz.make_deformation_gif(displacements_all, coords, connect, ele_type, fname)\n"
   ]
  },
  {
   "cell_type": "code",
   "execution_count": null,
   "metadata": {},
   "outputs": [],
   "source": []
  }
 ],
 "metadata": {
  "kernelspec": {
   "display_name": "finite-element-analysis-env",
   "language": "python",
   "name": "python3"
  },
  "language_info": {
   "codemirror_mode": {
    "name": "ipython",
    "version": 3
   },
   "file_extension": ".py",
   "mimetype": "text/x-python",
   "name": "python",
   "nbconvert_exporter": "python",
   "pygments_lexer": "ipython3",
   "version": "3.12.9"
  }
 },
 "nbformat": 4,
 "nbformat_minor": 2
}
