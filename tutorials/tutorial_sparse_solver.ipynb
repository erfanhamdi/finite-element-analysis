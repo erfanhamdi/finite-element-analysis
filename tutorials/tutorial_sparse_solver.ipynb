{
 "cells": [
  {
   "cell_type": "code",
   "execution_count": 1,
   "metadata": {},
   "outputs": [],
   "source": [
    "from finiteelementanalysis import pre_process as pre\n",
    "from finiteelementanalysis import pre_process_demo_helper_fcns as pre_demo\n",
    "from finiteelementanalysis import solver_demo_helper_functions as solver_demo\n",
    "from finiteelementanalysis.solver import hyperelastic_solver\n",
    "from finiteelementanalysis import visualize as viz\n",
    "import numpy as np\n",
    "\n",
    "def define_sample_problem_geom(ele_type, nx, ny, L, H):\n",
    "    coords, connect = pre.generate_rect_mesh_2d(ele_type, 0.0, 0.0, L, H, nx, ny)\n",
    "    return coords, connect\n",
    "\n",
    "def define_sample_problem_info(ele_type, coords, connect, L, H):\n",
    "    # Identify boundaries\n",
    "    boundary_nodes, boundary_edges = pre.identify_rect_boundaries(coords, connect, ele_type, 0.0, L, 0.0, H)\n",
    "    # 1. Fix left boundary: both u_x and u_y = 0.\n",
    "    fixed_nodes = pre.assign_fixed_nodes_rect(boundary_nodes, \"left\", 0.0, 0.0)\n",
    "    # Assign distributed load on the right boundary\n",
    "    q = 10.0\n",
    "    dload_info = pre.assign_uniform_load_rect(boundary_edges, \"right\", q, 0.0)\n",
    "    # Assign material properties\n",
    "    mu = 10\n",
    "    kappa = 100\n",
    "    material_props = np.array([mu, kappa])\n",
    "    # Assign artificial displacement field\n",
    "    displacement = np.zeros((coords.shape))\n",
    "    for kk in range(0, coords.shape[0]):\n",
    "        displacement[kk, 0] = coords[kk, 0] * 0.01\n",
    "    return displacement, material_props, fixed_nodes, dload_info\n"
   ]
  },
  {
   "cell_type": "code",
   "execution_count": 2,
   "metadata": {},
   "outputs": [],
   "source": [
    "ele_type = \"D2_nn8_quad\" # change this!\n",
    "nx = 25 # change this to refine the mesh\n",
    "ny = 25 # change this to refine the mesh\n",
    "L = 10\n",
    "H = 10\n",
    "coords, connect = define_sample_problem_geom(ele_type, nx, ny, L, H)\n",
    "displacement, material_props, fixed_nodes, dload_info = define_sample_problem_info(ele_type, coords, connect, L, H)\n",
    "\n",
    "fname = \"solver_mesh_1.png\"\n",
    "pre_demo.plot_mesh_2D(fname, ele_type, coords, connect)\n"
   ]
  },
  {
   "cell_type": "code",
   "execution_count": 3,
   "metadata": {},
   "outputs": [
    {
     "name": "stdout",
     "output_type": "stream",
     "text": [
      "avg time global stiffness: 0.7759279334000894 seconds\n",
      "avg time global traction: 0.0026656083995476366 seconds\n",
      "avg time global residual: 0.5486679831999937 seconds\n"
     ]
    }
   ],
   "source": [
    "# test how long assembley takes\n",
    "\n",
    "num_runs = 5\n",
    "\n",
    "avg_time_global_stiffness = solver_demo.time_assemble_global_stiffness(\n",
    "        num_runs=num_runs,\n",
    "        ele_type=ele_type,\n",
    "        coords=coords.T,\n",
    "        connect=connect.T,\n",
    "        material_props=material_props,\n",
    "        displacement=displacement.T\n",
    "    )\n",
    "\n",
    "avg_time_global_traction = solver_demo.time_assemble_global_traction(\n",
    "        num_runs=num_runs,\n",
    "        ele_type=ele_type,\n",
    "        coords=coords.T,\n",
    "        connect=connect.T,\n",
    "        dload_info=dload_info\n",
    "    )\n",
    "\n",
    "avg_time_global_residual = solver_demo.time_assemble_global_residual(\n",
    "        num_runs=num_runs,\n",
    "        ele_type=ele_type,\n",
    "        coords=coords.T,\n",
    "        connect=connect.T,\n",
    "        material_props=material_props,\n",
    "        displacement=displacement.T\n",
    "    )\n",
    "\n",
    "print(\"avg time global stiffness:\", avg_time_global_stiffness, \"seconds\")\n",
    "print(\"avg time global traction:\", avg_time_global_traction, \"seconds\")\n",
    "print(\"avg time global residual:\", avg_time_global_residual, \"seconds\")"
   ]
  },
  {
   "cell_type": "code",
   "execution_count": 4,
   "metadata": {},
   "outputs": [
    {
     "name": "stdout",
     "output_type": "stream",
     "text": [
      "average time dense matrix solve: 2.1283320000002277 seconds\n"
     ]
    }
   ],
   "source": [
    "# test how long the matrix solve takes\n",
    "\n",
    "K, R = solver_demo.prep_for_matrix_solve(ele_type, coords.T, connect.T, material_props, displacement.T, fixed_nodes, dload_info)\n",
    "\n",
    "method = \"dense\"\n",
    "num_runs = 5\n",
    "avg_time_dense_solve = solver_demo.time_one_matrix_solve(K, R, method, num_runs)\n",
    "\n",
    "print(\"average time dense matrix solve:\", avg_time_dense_solve, \"seconds\")\n"
   ]
  },
  {
   "cell_type": "code",
   "execution_count": 5,
   "metadata": {},
   "outputs": [],
   "source": [
    "# look at the stiffness matrix to see sparse-ness\n",
    "\n",
    "fname = \"solver_global_stiffness_1.png\"\n",
    "solver_demo.analyze_and_visualize_matrix(K, fname)"
   ]
  },
  {
   "cell_type": "code",
   "execution_count": 6,
   "metadata": {},
   "outputs": [
    {
     "name": "stdout",
     "output_type": "stream",
     "text": [
      "avg time global stiffness assembly sparse: 0.5718573499994818 seconds\n"
     ]
    }
   ],
   "source": [
    "# try a sparse matrix assembly option\n",
    "\n",
    "num_runs = 5\n",
    "\n",
    "avg_time_global_stiffness_sparse = solver_demo.time_assemble_global_stiffness_sparse(\n",
    "        num_runs=num_runs,\n",
    "        ele_type=ele_type,\n",
    "        coords=coords.T,\n",
    "        connect=connect.T,\n",
    "        material_props=material_props,\n",
    "        displacement=displacement.T\n",
    "    )\n",
    "\n",
    "print(\"avg time global stiffness assembly sparse:\", avg_time_global_stiffness_sparse, \"seconds\")"
   ]
  },
  {
   "cell_type": "code",
   "execution_count": 7,
   "metadata": {},
   "outputs": [
    {
     "name": "stdout",
     "output_type": "stream",
     "text": [
      "average time sparse matrix solve: 0.024549620800098638\n"
     ]
    }
   ],
   "source": [
    "# try a sparse solver\n",
    "\n",
    "method = \"sparse\"\n",
    "num_runs = 10\n",
    "avg_time_sparse_solve = solver_demo.time_one_matrix_solve(K, R, method, num_runs)\n",
    "\n",
    "print(\"average time sparse matrix solve:\", avg_time_sparse_solve)\n"
   ]
  },
  {
   "cell_type": "code",
   "execution_count": 8,
   "metadata": {},
   "outputs": [
    {
     "name": "stdout",
     "output_type": "stream",
     "text": [
      "average time sparse iterative matrix solve: 0.023913591699965764\n"
     ]
    }
   ],
   "source": [
    "# try another sparse solver\n",
    "\n",
    "method = \"sparse_iterative\"\n",
    "num_runs = 10\n",
    "avg_time_sparse_iterative_solve = solver_demo.time_one_matrix_solve(K, R, method, num_runs)\n",
    "\n",
    "print(\"average time sparse iterative matrix solve:\", avg_time_sparse_iterative_solve)\n"
   ]
  },
  {
   "cell_type": "code",
   "execution_count": 9,
   "metadata": {},
   "outputs": [
    {
     "name": "stdout",
     "output_type": "stream",
     "text": [
      "Step 0, load factor = 0.200\n",
      "Iteration 1, Correction=1.000000e+00, Residual=7.528986e-04, tolerance=1.000000e-09\n",
      "Iteration 2, Correction=6.236057e-02, Residual=1.997573e-04, tolerance=1.000000e-09\n",
      "Iteration 3, Correction=6.572016e-04, Residual=1.303508e-06, tolerance=1.000000e-09\n",
      "Iteration 4, Correction=1.903121e-08, Residual=2.303025e-10, tolerance=1.000000e-09\n",
      "Iteration 5, Correction=3.580424e-16, Residual=1.049148e-16, tolerance=1.000000e-09\n",
      "Step 1, load factor = 0.400\n",
      "Iteration 1, Correction=5.159342e-01, Residual=7.528986e-04, tolerance=1.000000e-09\n",
      "Iteration 2, Correction=3.615895e-02, Residual=2.190751e-04, tolerance=1.000000e-09\n",
      "Iteration 3, Correction=4.683972e-04, Residual=1.463911e-06, tolerance=1.000000e-09\n",
      "Iteration 4, Correction=1.741846e-08, Residual=3.599559e-10, tolerance=1.000000e-09\n",
      "Iteration 5, Correction=3.364322e-16, Residual=2.038643e-16, tolerance=1.000000e-09\n",
      "Step 2, load factor = 0.600\n",
      "Iteration 1, Correction=3.636955e-01, Residual=7.528986e-04, tolerance=1.000000e-09\n",
      "Iteration 2, Correction=2.771570e-02, Residual=2.641989e-04, tolerance=1.000000e-09\n",
      "Iteration 3, Correction=4.346575e-04, Residual=1.618308e-06, tolerance=1.000000e-09\n",
      "Iteration 4, Correction=1.863484e-08, Residual=6.478491e-10, tolerance=1.000000e-09\n",
      "Iteration 5, Correction=6.248007e-16, Residual=3.130794e-16, tolerance=1.000000e-09\n",
      "Step 3, load factor = 0.800\n",
      "Iteration 1, Correction=2.911116e-01, Residual=7.528986e-04, tolerance=1.000000e-09\n",
      "Iteration 2, Correction=2.350218e-02, Residual=3.389128e-04, tolerance=1.000000e-09\n",
      "Iteration 3, Correction=4.330825e-04, Residual=1.930281e-06, tolerance=1.000000e-09\n",
      "Iteration 4, Correction=2.217192e-08, Residual=1.131039e-09, tolerance=1.000000e-09\n",
      "Iteration 5, Correction=3.055493e-15, Residual=4.454873e-16, tolerance=1.000000e-09\n",
      "Step 4, load factor = 1.000\n",
      "Iteration 1, Correction=2.496196e-01, Residual=7.528986e-04, tolerance=1.000000e-09\n",
      "Iteration 2, Correction=2.067742e-02, Residual=4.482097e-04, tolerance=1.000000e-09\n",
      "Iteration 3, Correction=4.242526e-04, Residual=2.744183e-06, tolerance=1.000000e-09\n",
      "Iteration 4, Correction=4.081874e-08, Residual=1.778578e-09, tolerance=1.000000e-09\n",
      "Iteration 5, Correction=1.068077e-14, Residual=6.073071e-16, tolerance=1.000000e-09\n"
     ]
    }
   ],
   "source": [
    "# run the example to look at the results\n",
    "\n",
    "nr_num_steps = 5\n",
    "nr_print = True\n",
    "\n",
    "displacements_all, nr_info_all = hyperelastic_solver(material_props, ele_type, coords.T, connect.T, fixed_nodes, dload_info, nr_print, nr_num_steps, nr_tol=1e-9, nr_maxit=30)\n",
    "\n",
    "fname = \"disp.gif\"\n",
    "viz.make_deformation_gif(displacements_all, coords, connect, ele_type, fname)\n"
   ]
  },
  {
   "cell_type": "markdown",
   "metadata": {},
   "source": []
  }
 ],
 "metadata": {
  "kernelspec": {
   "display_name": "finite-element-analysis-env",
   "language": "python",
   "name": "python3"
  },
  "language_info": {
   "codemirror_mode": {
    "name": "ipython",
    "version": 3
   },
   "file_extension": ".py",
   "mimetype": "text/x-python",
   "name": "python",
   "nbconvert_exporter": "python",
   "pygments_lexer": "ipython3",
   "version": "3.12.9"
  },
  "orig_nbformat": 4
 },
 "nbformat": 4,
 "nbformat_minor": 2
}
